{
 "cells": [
  {
   "cell_type": "markdown",
   "id": "654e6fdb-215e-442f-9ddb-a6c0a90df5ec",
   "metadata": {},
   "source": [
    "1Covert a iteger to a floatig-poit umber.\n",
    "a=13\n",
    "type(a)"
   ]
  },
  {
   "cell_type": "markdown",
   "id": "f6b68e77-fe70-4aaf-82ee-3b13eb85628b",
   "metadata": {
    "tags": []
   },
   "source": [
    "float(a)"
   ]
  },
  {
   "cell_type": "markdown",
   "id": "60e06283-835d-48d8-9c1e-ff7c3a168c33",
   "metadata": {},
   "source": [
    "type(a)"
   ]
  },
  {
   "cell_type": "markdown",
   "id": "e2955d3a-b907-401b-a83e-501baf255b2b",
   "metadata": {},
   "source": [
    "2.Covert a float to a iteger.\n",
    "int(a)"
   ]
  },
  {
   "cell_type": "markdown",
   "id": "13d9644a-f528-41ab-be9b-a5a6d515876a",
   "metadata": {
    "jupyter": {
     "outputs_hidden": true
    },
    "tags": []
   },
   "source": [
    "3.Covert a iteger to a strig.\n",
    "str(a)"
   ]
  },
  {
   "cell_type": "markdown",
   "id": "f24537c9-d04d-4078-b9ef-49e08553aa69",
   "metadata": {},
   "source": [
    "4.Covert a list to a tuple.\n",
    "mylist = [\"akash\" ,\"boy\", 50]\n",
    "print(mylist)"
   ]
  },
  {
   "cell_type": "markdown",
   "id": "1a36a3e8-c32d-4c2c-aaac-8126da5d3116",
   "metadata": {},
   "source": [
    "\n",
    "mytuple = tuple(mylist)\n",
    "print(mytuple)"
   ]
  },
  {
   "cell_type": "code",
   "execution_count": 8,
   "id": "6f506475-e551-4a65-927e-ace837587d01",
   "metadata": {},
   "outputs": [
    {
     "data": {
      "text/plain": [
       "['akash', 'boy', 50]"
      ]
     },
     "execution_count": 8,
     "metadata": {},
     "output_type": "execute_result"
    }
   ],
   "source": [
    "list(mytuple)"
   ]
  },
  {
   "cell_type": "code",
   "execution_count": 9,
   "id": "c8a0e1ce-4099-4f19-ad6c-e7d9e2f61d8b",
   "metadata": {},
   "outputs": [
    {
     "name": "stdout",
     "output_type": "stream",
     "text": [
      "1111"
     ]
    }
   ],
   "source": [
    "def ConvertBinary(n):\n",
    "    if n>1 : \n",
    "      ConvertBinary(n//2)\n",
    "    print(n%2, end=\"\")\n",
    "\n",
    "ConvertBinary(15)\n",
    "    \n"
   ]
  },
  {
   "cell_type": "code",
   "execution_count": 10,
   "id": "64c46742-146c-45a5-bc7b-71f2657d3411",
   "metadata": {},
   "outputs": [
    {
     "name": "stdout",
     "output_type": "stream",
     "text": [
      "13 True\n"
     ]
    }
   ],
   "source": [
    "x=13\n",
    "print (x ,bool(x))"
   ]
  },
  {
   "cell_type": "code",
   "execution_count": null,
   "id": "3f534a54-e55a-41a4-aee6-323b03b976b8",
   "metadata": {},
   "outputs": [],
   "source": []
  }
 ],
 "metadata": {
  "kernelspec": {
   "display_name": "Python 3 (ipykernel)",
   "language": "python",
   "name": "python3"
  },
  "language_info": {
   "codemirror_mode": {
    "name": "ipython",
    "version": 3
   },
   "file_extension": ".py",
   "mimetype": "text/x-python",
   "name": "python",
   "nbconvert_exporter": "python",
   "pygments_lexer": "ipython3",
   "version": "3.10.8"
  }
 },
 "nbformat": 4,
 "nbformat_minor": 5
}
