{
 "cells": [
  {
   "cell_type": "markdown",
   "id": "c499dd5e-a1eb-49e0-9166-7628cc87929f",
   "metadata": {},
   "source": [
    "a=13\n",
    "type(a)"
   ]
  },
  {
   "cell_type": "markdown",
   "id": "d9167567-f42e-4afb-bc6b-825a8d5e2570",
   "metadata": {
    "tags": []
   },
   "source": [
    "float(a)"
   ]
  },
  {
   "cell_type": "markdown",
   "id": "6b301d0a-4122-4d86-9102-53e7a33d1b37",
   "metadata": {},
   "source": [
    "type(a)"
   ]
  },
  {
   "cell_type": "markdown",
   "id": "bd7339b8-848e-439e-8e46-841f7ecee69b",
   "metadata": {},
   "source": [
    "int(a)"
   ]
  },
  {
   "cell_type": "markdown",
   "id": "ff98d8d5-a72f-4144-b200-808125ce03eb",
   "metadata": {},
   "source": [
    "str(a)"
   ]
  },
  {
   "cell_type": "markdown",
   "id": "f3d8b25a-a691-4ec9-9fad-2d7f9af3a870",
   "metadata": {},
   "source": [
    "mylist = [\"akash\" ,\"boy\", 50]\n",
    "print(mylist)"
   ]
  },
  {
   "cell_type": "markdown",
   "id": "08d5ffe6-0090-4c77-9929-9b2f7edc12e6",
   "metadata": {},
   "source": [
    "mytuple = tuple(mylist)\n",
    "print(mytuple)"
   ]
  },
  {
   "cell_type": "markdown",
   "id": "29674c17-d69f-4f60-abb8-e9d4b733b954",
   "metadata": {},
   "source": [
    "list(mytuple)"
   ]
  },
  {
   "cell_type": "markdown",
   "id": "60ee89f4-9d8f-43c9-a64a-ac62ac8bcaf9",
   "metadata": {},
   "source": [
    "def ConvertBinary(n):\n",
    "    if n>1 : \n",
    "      ConvertBinary(n//2)\n",
    "    print(n%2, end=\"\")\n",
    "\n",
    "ConvertBinary(15)\n",
    "    \n"
   ]
  },
  {
   "cell_type": "markdown",
   "id": "01dab5f6-9967-4d12-84af-d1568e32f837",
   "metadata": {},
   "source": [
    "x=13\n",
    "print (x ,bool(x))"
   ]
  },
  {
   "cell_type": "code",
   "execution_count": null,
   "id": "3f534a54-e55a-41a4-aee6-323b03b976b8",
   "metadata": {},
   "outputs": [],
   "source": []
  }
 ],
 "metadata": {
  "kernelspec": {
   "display_name": "Python 3 (ipykernel)",
   "language": "python",
   "name": "python3"
  },
  "language_info": {
   "codemirror_mode": {
    "name": "ipython",
    "version": 3
   },
   "file_extension": ".py",
   "mimetype": "text/x-python",
   "name": "python",
   "nbconvert_exporter": "python",
   "pygments_lexer": "ipython3",
   "version": "3.10.8"
  }
 },
 "nbformat": 4,
 "nbformat_minor": 5
}
