{
 "cells": [
  {
   "cell_type": "markdown",
   "id": "654e6fdb-215e-442f-9ddb-a6c0a90df5ec",
   "metadata": {},
   "source": [
    "1Covert a iteger to a floatig-poit umber.\n",
    "a=13\n",
    "type(a)"
   ]
  },
  {
   "cell_type": "markdown",
   "id": "f6b68e77-fe70-4aaf-82ee-3b13eb85628b",
   "metadata": {
    "tags": []
   },
   "source": [
    "float(a)"
   ]
  },
  {
   "cell_type": "markdown",
   "id": "60e06283-835d-48d8-9c1e-ff7c3a168c33",
   "metadata": {},
   "source": [
    "type(a)"
   ]
  },
  {
   "cell_type": "markdown",
   "id": "e2955d3a-b907-401b-a83e-501baf255b2b",
   "metadata": {},
   "source": [
    "2.Covert a float to a iteger.\n",
    "int(a)"
   ]
  },
  {
   "cell_type": "markdown",
   "id": "13d9644a-f528-41ab-be9b-a5a6d515876a",
   "metadata": {
    "jupyter": {
     "outputs_hidden": true
    },
    "tags": []
   },
   "source": [
    "3.Covert a iteger to a strig.\n",
    "str(a)"
   ]
  },
  {
   "cell_type": "markdown",
   "id": "f24537c9-d04d-4078-b9ef-49e08553aa69",
   "metadata": {},
   "source": [
    "4.Covert a list to a tuple.\n",
    "mylist = [\"akash\" ,\"boy\", 50]\n",
    "print(mylist)"
   ]
  },
  {
   "cell_type": "markdown",
   "id": "1a36a3e8-c32d-4c2c-aaac-8126da5d3116",
   "metadata": {},
   "source": [
    "5.Covert a tuple to a list.\n",
    "mytuple = tuple(mylist)\n",
    "print(mytuple)"
   ]
  },
  {
   "cell_type": "markdown",
   "id": "74ea9d39-546e-42b5-b001-448f53ffda14",
   "metadata": {},
   "source": [
    "list(mytuple)"
   ]
  },
  {
   "cell_type": "markdown",
   "id": "bf317b91-2787-4951-b17b-0cba0616693c",
   "metadata": {},
   "source": [
    "6.Covert a decimal umber to biary.\n",
    "def ConvertBinary(n):\n",
    "    if n>1 : \n",
    "      ConvertBinary(n//2)\n",
    "    print(n%2, end=\"\")\n",
    "\n",
    "ConvertBinary(15)\n",
    "    \n"
   ]
  },
  {
   "cell_type": "markdown",
   "id": "916a8aef-499e-4626-a62d-0f3177af5228",
   "metadata": {},
   "source": [
    "7.Covert a o-zero umber to boolea.\n",
    "x=13\n",
    "print (x ,bool(x))"
   ]
  },
  {
   "cell_type": "code",
   "execution_count": null,
   "id": "3f534a54-e55a-41a4-aee6-323b03b976b8",
   "metadata": {},
   "outputs": [],
   "source": []
  }
 ],
 "metadata": {
  "kernelspec": {
   "display_name": "Python 3 (ipykernel)",
   "language": "python",
   "name": "python3"
  },
  "language_info": {
   "codemirror_mode": {
    "name": "ipython",
    "version": 3
   },
   "file_extension": ".py",
   "mimetype": "text/x-python",
   "name": "python",
   "nbconvert_exporter": "python",
   "pygments_lexer": "ipython3",
   "version": "3.10.8"
  }
 },
 "nbformat": 4,
 "nbformat_minor": 5
}
